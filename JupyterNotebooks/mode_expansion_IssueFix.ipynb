{
 "cells": [
  {
   "cell_type": "code",
   "execution_count": 1,
   "metadata": {},
   "outputs": [],
   "source": [
    "%load_ext autoreload\n",
    "%autoreload 2\n",
    "\n",
    "import numpy as np\n",
    "import scipy.signal as sig\n",
    "import scipy.linalg as la\n",
    "import scipy.io as sio"
   ]
  },
  {
   "cell_type": "markdown",
   "metadata": {},
   "source": [
    "**Example in the help still works the same way after changing the code a little bit:**"
   ]
  },
  {
   "cell_type": "code",
   "execution_count": 6,
   "metadata": {},
   "outputs": [
    {
     "name": "stdout",
     "output_type": "stream",
     "text": [
      "[[-0.16399264 -0.15      ]\n",
      " [-0.29550452  0.28857823]\n",
      " [-0.36848811 -0.37      ]]\n"
     ]
    }
   ],
   "source": [
    "import vibrationtesting as vt\n",
    "M = np.array([[4, 0, 0],\n",
    "              [0, 4, 0],\n",
    "              [0, 0, 4]])\n",
    "K = np.array([[8, -4, 0],\n",
    "              [-4, 8, -4],\n",
    "              [0, -4, 4]])\n",
    "measured = np.array([[0, 2]])\n",
    "omega, zeta, Psi = vt.sos_modal(M, K)\n",
    "Psi_measured = np.array([[-0.15], [-0.37]])\n",
    "Psi_full = vt.mode_expansion_from_model(Psi_measured, omega[0], M, K, measured)\n",
    "print(np.hstack((Psi[:,0].reshape(-1,1), Psi_full)))"
   ]
  },
  {
   "cell_type": "markdown",
   "metadata": {},
   "source": [
    "**Another example with two omegas**"
   ]
  },
  {
   "cell_type": "code",
   "execution_count": 7,
   "metadata": {},
   "outputs": [
    {
     "name": "stdout",
     "output_type": "stream",
     "text": [
      "[[-0.16399264 -0.15       -0.24      ]\n",
      " [-0.29550452  0.28857823 -0.51324015]\n",
      " [-0.36848811 -0.37       -0.4       ]]\n"
     ]
    }
   ],
   "source": [
    "import vibrationtesting as vt\n",
    "M = np.array([[4, 0, 0],\n",
    "              [0, 4, 0],\n",
    "              [0, 0, 4]])\n",
    "K = np.array([[8, -4, 0],\n",
    "              [-4, 8, -4],\n",
    "              [0, -4, 4]])\n",
    "measured = np.array([[0, 2]])\n",
    "omega, zeta, Psi = vt.sos_modal(M, K)\n",
    "Psi_measured = np.array([[-0.15, -0.24], [-0.37, -0.40]])\n",
    "Psi_full = vt.mode_expansion_from_model(Psi_measured, np.array([omega[0], omega[2]]), M, K, measured)\n",
    "print(np.hstack((Psi[:,0].reshape(-1,1), Psi_full)))"
   ]
  },
  {
   "cell_type": "markdown",
   "metadata": {},
   "source": [
    "**Example 3: using the data on the wing structure**"
   ]
  },
  {
   "cell_type": "code",
   "execution_count": 8,
   "metadata": {},
   "outputs": [
    {
     "data": {
      "text/plain": [
       "(15, 6)"
      ]
     },
     "execution_count": 8,
     "metadata": {},
     "output_type": "execute_result"
    }
   ],
   "source": [
    "mat_contents=sio.loadmat('Modeshapedata/1stNaturalFreq15.mat')\n",
    "U1 = mat_contents['U1']\n",
    "mat_contents=sio.loadmat('Modeshapedata/2ndNaturalFreq15.mat')\n",
    "U2 = mat_contents['U2']\n",
    "mat_contents=sio.loadmat('Modeshapedata/3rdNaturalFreq15.mat')\n",
    "U3 = mat_contents['U3']\n",
    "mat_contents=sio.loadmat('Modeshapedata/4rthNaturalFreq15.mat')\n",
    "U4 = mat_contents['U4']\n",
    "mat_contents=sio.loadmat('Modeshapedata/5thNaturalFreq15.mat')\n",
    "U5 = mat_contents['U5']\n",
    "mat_contents=sio.loadmat('Modeshapedata/6thNaturalFreq15.mat')\n",
    "U6 = mat_contents['U6']\n",
    "Psi_1 = np.array(U1)\n",
    "Psi_2 = np.array(U2)\n",
    "Psi_3 = np.array(U3)\n",
    "Psi_4 = np.array(U4)\n",
    "Psi_5 = np.array(U5)\n",
    "Psi_6 = np.array(U6)\n",
    "Psi_1=np.column_stack((Psi_1,Psi_2,Psi_3,Psi_4,Psi_5,Psi_6))\n",
    "Psi_abs = np.abs(Psi_1)*np.real(np.sign(Psi_1))\n",
    "Psi_local = Psi_abs\n",
    "Psi_local.shape"
   ]
  },
  {
   "cell_type": "code",
   "execution_count": 9,
   "metadata": {},
   "outputs": [
    {
     "data": {
      "text/plain": [
       "(75, 6)"
      ]
     },
     "execution_count": 9,
     "metadata": {},
     "output_type": "execute_result"
    }
   ],
   "source": [
    "mat_contents=sio.loadmat('FEmodaldata/WingBeamforMAC.mat')\n",
    "K = (mat_contents['Kr'])\n",
    "M = (mat_contents['Mr'])\n",
    "Kbm = K.todense()\n",
    "Mbm = M.todense()\n",
    "omega, zeta, PsiBM = vt.sos_modal(Mbm, Kbm, damp_diag=0)\n",
    "measured = np.array([[1,6,11,16,21,26,31,36,41,46,51,56,61,66,71]])\n",
    "omegaFE1=np.array([omega[0], omega[1], omega[3], omega[4], omega[5], omega[6]])\n",
    "Psi_TestBM=vt.mode_expansion_from_model(Psi_local, omegaFE1, Mbm, Kbm, measured)\n",
    "Psi_TestBM.shape"
   ]
  }
 ],
 "metadata": {
  "kernelspec": {
   "display_name": "Python 3",
   "language": "python",
   "name": "python3"
  },
  "language_info": {
   "codemirror_mode": {
    "name": "ipython",
    "version": 3
   },
   "file_extension": ".py",
   "mimetype": "text/x-python",
   "name": "python",
   "nbconvert_exporter": "python",
   "pygments_lexer": "ipython3",
   "version": "3.6.7"
  }
 },
 "nbformat": 4,
 "nbformat_minor": 2
}
